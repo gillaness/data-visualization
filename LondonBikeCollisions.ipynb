{
 "cells": [
  {
   "cell_type": "code",
   "execution_count": 83,
   "metadata": {},
   "outputs": [],
   "source": [
    "import pandas as pd\n",
    "import matplotlib.pyplot as plt\n",
    "import seaborn as sns\n",
    "import folium as flm"
   ]
  },
  {
   "cell_type": "code",
   "execution_count": 84,
   "metadata": {},
   "outputs": [
    {
     "data": {
      "text/html": [
       "<div>\n",
       "<style scoped>\n",
       "    .dataframe tbody tr th:only-of-type {\n",
       "        vertical-align: middle;\n",
       "    }\n",
       "\n",
       "    .dataframe tbody tr th {\n",
       "        vertical-align: top;\n",
       "    }\n",
       "\n",
       "    .dataframe thead th {\n",
       "        text-align: right;\n",
       "    }\n",
       "</style>\n",
       "<table border=\"1\" class=\"dataframe\">\n",
       "  <thead>\n",
       "    <tr style=\"text-align: right;\">\n",
       "      <th></th>\n",
       "      <th>accident_index</th>\n",
       "      <th>date</th>\n",
       "      <th>borough</th>\n",
       "      <th>ward</th>\n",
       "      <th>latitude</th>\n",
       "      <th>longitude</th>\n",
       "      <th>casualties</th>\n",
       "      <th>severity</th>\n",
       "      <th>url</th>\n",
       "      <th>api_url</th>\n",
       "      <th>number_of_casualties</th>\n",
       "      <th>number_of_vehicles</th>\n",
       "      <th>location</th>\n",
       "    </tr>\n",
       "  </thead>\n",
       "  <tbody>\n",
       "    <tr>\n",
       "      <th>0</th>\n",
       "      <td>2019010161545</td>\n",
       "      <td>2019-02-04T19:55:00</td>\n",
       "      <td>Hounslow</td>\n",
       "      <td>Heston Central</td>\n",
       "      <td>51.475300</td>\n",
       "      <td>-0.375342</td>\n",
       "      <td>Cyclist</td>\n",
       "      <td>fatal</td>\n",
       "      <td>https://www.cyclestreets.net/collisions/report...</td>\n",
       "      <td>https://api.cyclestreets.net/v2/collisions.loc...</td>\n",
       "      <td>1</td>\n",
       "      <td>2</td>\n",
       "      <td>POINT(-0.375342 51.4753)</td>\n",
       "    </tr>\n",
       "    <tr>\n",
       "      <th>1</th>\n",
       "      <td>2019010191515</td>\n",
       "      <td>2019-07-04T15:09:00</td>\n",
       "      <td>Lambeth</td>\n",
       "      <td>Clapham Town</td>\n",
       "      <td>51.468211</td>\n",
       "      <td>-0.144234</td>\n",
       "      <td>Cyclist</td>\n",
       "      <td>fatal</td>\n",
       "      <td>https://www.cyclestreets.net/collisions/report...</td>\n",
       "      <td>https://api.cyclestreets.net/v2/collisions.loc...</td>\n",
       "      <td>1</td>\n",
       "      <td>2</td>\n",
       "      <td>POINT(-0.144234 51.468211)</td>\n",
       "    </tr>\n",
       "    <tr>\n",
       "      <th>2</th>\n",
       "      <td>2019010209381</td>\n",
       "      <td>2019-10-03T17:05:00</td>\n",
       "      <td>Hillingdon</td>\n",
       "      <td>Northwood</td>\n",
       "      <td>51.612605</td>\n",
       "      <td>-0.434904</td>\n",
       "      <td>Pedestrian,Cyclist</td>\n",
       "      <td>fatal</td>\n",
       "      <td>https://www.cyclestreets.net/collisions/report...</td>\n",
       "      <td>https://api.cyclestreets.net/v2/collisions.loc...</td>\n",
       "      <td>2</td>\n",
       "      <td>1</td>\n",
       "      <td>POINT(-0.434904 51.612605)</td>\n",
       "    </tr>\n",
       "    <tr>\n",
       "      <th>3</th>\n",
       "      <td>2019010214996</td>\n",
       "      <td>2019-10-30T06:39:00</td>\n",
       "      <td>Lewisham</td>\n",
       "      <td>Rushey Green</td>\n",
       "      <td>51.444015</td>\n",
       "      <td>-0.026135</td>\n",
       "      <td>Cyclist</td>\n",
       "      <td>fatal</td>\n",
       "      <td>https://www.cyclestreets.net/collisions/report...</td>\n",
       "      <td>https://api.cyclestreets.net/v2/collisions.loc...</td>\n",
       "      <td>1</td>\n",
       "      <td>2</td>\n",
       "      <td>POINT(-0.026135 51.444015)</td>\n",
       "    </tr>\n",
       "    <tr>\n",
       "      <th>4</th>\n",
       "      <td>2019010254652</td>\n",
       "      <td>2019-02-09T08:40:00</td>\n",
       "      <td>Camden</td>\n",
       "      <td>West Hampstead</td>\n",
       "      <td>51.550844</td>\n",
       "      <td>-0.191400</td>\n",
       "      <td>Cyclist</td>\n",
       "      <td>fatal</td>\n",
       "      <td>https://www.cyclestreets.net/collisions/report...</td>\n",
       "      <td>https://api.cyclestreets.net/v2/collisions.loc...</td>\n",
       "      <td>1</td>\n",
       "      <td>1</td>\n",
       "      <td>POINT(-0.1914 51.550844)</td>\n",
       "    </tr>\n",
       "  </tbody>\n",
       "</table>\n",
       "</div>"
      ],
      "text/plain": [
       "  accident_index                 date     borough            ward   latitude  \\\n",
       "0  2019010161545  2019-02-04T19:55:00    Hounslow  Heston Central  51.475300   \n",
       "1  2019010191515  2019-07-04T15:09:00     Lambeth    Clapham Town  51.468211   \n",
       "2  2019010209381  2019-10-03T17:05:00  Hillingdon       Northwood  51.612605   \n",
       "3  2019010214996  2019-10-30T06:39:00    Lewisham    Rushey Green  51.444015   \n",
       "4  2019010254652  2019-02-09T08:40:00      Camden  West Hampstead  51.550844   \n",
       "\n",
       "   longitude          casualties severity  \\\n",
       "0  -0.375342             Cyclist    fatal   \n",
       "1  -0.144234             Cyclist    fatal   \n",
       "2  -0.434904  Pedestrian,Cyclist    fatal   \n",
       "3  -0.026135             Cyclist    fatal   \n",
       "4  -0.191400             Cyclist    fatal   \n",
       "\n",
       "                                                 url  \\\n",
       "0  https://www.cyclestreets.net/collisions/report...   \n",
       "1  https://www.cyclestreets.net/collisions/report...   \n",
       "2  https://www.cyclestreets.net/collisions/report...   \n",
       "3  https://www.cyclestreets.net/collisions/report...   \n",
       "4  https://www.cyclestreets.net/collisions/report...   \n",
       "\n",
       "                                             api_url  number_of_casualties  \\\n",
       "0  https://api.cyclestreets.net/v2/collisions.loc...                     1   \n",
       "1  https://api.cyclestreets.net/v2/collisions.loc...                     1   \n",
       "2  https://api.cyclestreets.net/v2/collisions.loc...                     2   \n",
       "3  https://api.cyclestreets.net/v2/collisions.loc...                     1   \n",
       "4  https://api.cyclestreets.net/v2/collisions.loc...                     1   \n",
       "\n",
       "   number_of_vehicles                    location  \n",
       "0                   2    POINT(-0.375342 51.4753)  \n",
       "1                   2  POINT(-0.144234 51.468211)  \n",
       "2                   1  POINT(-0.434904 51.612605)  \n",
       "3                   2  POINT(-0.026135 51.444015)  \n",
       "4                   1    POINT(-0.1914 51.550844)  "
      ]
     },
     "execution_count": 84,
     "metadata": {},
     "output_type": "execute_result"
    }
   ],
   "source": [
    "filename = '/Users/gillanes/Documents/coding_dojo/data/bike_collisions.csv'\n",
    "df = pd.read_csv(filename)\n",
    "df.head()"
   ]
  },
  {
   "cell_type": "code",
   "execution_count": 85,
   "metadata": {},
   "outputs": [
    {
     "name": "stdout",
     "output_type": "stream",
     "text": [
      "<class 'pandas.core.frame.DataFrame'>\n",
      "RangeIndex: 61046 entries, 0 to 61045\n",
      "Data columns (total 13 columns):\n",
      " #   Column                Non-Null Count  Dtype  \n",
      "---  ------                --------------  -----  \n",
      " 0   accident_index        61046 non-null  object \n",
      " 1   date                  61046 non-null  object \n",
      " 2   borough               61046 non-null  object \n",
      " 3   ward                  61046 non-null  object \n",
      " 4   latitude              61046 non-null  float64\n",
      " 5   longitude             61046 non-null  float64\n",
      " 6   casualties            61046 non-null  object \n",
      " 7   severity              61046 non-null  object \n",
      " 8   url                   61046 non-null  object \n",
      " 9   api_url               61046 non-null  object \n",
      " 10  number_of_casualties  61046 non-null  int64  \n",
      " 11  number_of_vehicles    61046 non-null  int64  \n",
      " 12  location              61046 non-null  object \n",
      "dtypes: float64(2), int64(2), object(9)\n",
      "memory usage: 6.1+ MB\n"
     ]
    }
   ],
   "source": [
    "df.info()"
   ]
  },
  {
   "cell_type": "code",
   "execution_count": 86,
   "metadata": {},
   "outputs": [],
   "source": [
    "# Tranformamos la columna date de object a datetime\n",
    "df['date'] = pd.to_datetime(df['date'])"
   ]
  },
  {
   "cell_type": "code",
   "execution_count": 87,
   "metadata": {},
   "outputs": [
    {
     "name": "stdout",
     "output_type": "stream",
     "text": [
      "<class 'pandas.core.frame.DataFrame'>\n",
      "RangeIndex: 61046 entries, 0 to 61045\n",
      "Data columns (total 13 columns):\n",
      " #   Column                Non-Null Count  Dtype         \n",
      "---  ------                --------------  -----         \n",
      " 0   accident_index        61046 non-null  object        \n",
      " 1   date                  61046 non-null  datetime64[ns]\n",
      " 2   borough               61046 non-null  object        \n",
      " 3   ward                  61046 non-null  object        \n",
      " 4   latitude              61046 non-null  float64       \n",
      " 5   longitude             61046 non-null  float64       \n",
      " 6   casualties            61046 non-null  object        \n",
      " 7   severity              61046 non-null  object        \n",
      " 8   url                   61046 non-null  object        \n",
      " 9   api_url               61046 non-null  object        \n",
      " 10  number_of_casualties  61046 non-null  int64         \n",
      " 11  number_of_vehicles    61046 non-null  int64         \n",
      " 12  location              61046 non-null  object        \n",
      "dtypes: datetime64[ns](1), float64(2), int64(2), object(8)\n",
      "memory usage: 6.1+ MB\n"
     ]
    }
   ],
   "source": [
    "df.info()"
   ]
  },
  {
   "cell_type": "code",
   "execution_count": 88,
   "metadata": {},
   "outputs": [],
   "source": [
    "# Obtenemos las columnas de Años, Meses y Dias\n",
    "df['year'] = df['date'].dt.year\n",
    "df['month'] = df['date'].dt.month\n",
    "df['day'] = df['date'].dt.day_name()"
   ]
  }
 ],
 "metadata": {
  "interpreter": {
   "hash": "31f2aee4e71d21fbe5cf8b01ff0e069b9275f58929596ceb00d14d90e3e16cd6"
  },
  "kernelspec": {
   "display_name": "Python 3.8.9 64-bit",
   "language": "python",
   "name": "python3"
  },
  "language_info": {
   "codemirror_mode": {
    "name": "ipython",
    "version": 3
   },
   "file_extension": ".py",
   "mimetype": "text/x-python",
   "name": "python",
   "nbconvert_exporter": "python",
   "pygments_lexer": "ipython3",
   "version": "3.8.9"
  },
  "orig_nbformat": 4
 },
 "nbformat": 4,
 "nbformat_minor": 2
}
